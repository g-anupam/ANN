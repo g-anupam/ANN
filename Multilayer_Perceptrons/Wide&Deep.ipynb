{
 "cells": [
  {
   "metadata": {
    "ExecuteTime": {
     "end_time": "2025-01-22T14:23:33.291316Z",
     "start_time": "2025-01-22T14:23:33.285188Z"
    }
   },
   "cell_type": "code",
   "source": "import tensorflow as tf",
   "id": "c720d88a58136345",
   "outputs": [],
   "execution_count": 12
  },
  {
   "metadata": {
    "ExecuteTime": {
     "end_time": "2025-01-22T14:23:33.314453Z",
     "start_time": "2025-01-22T14:23:33.298631Z"
    }
   },
   "cell_type": "code",
   "source": [
    "from sklearn.datasets import fetch_california_housing\n",
    "housing = fetch_california_housing()"
   ],
   "id": "5b6d038e436e2454",
   "outputs": [],
   "execution_count": 13
  },
  {
   "metadata": {
    "ExecuteTime": {
     "end_time": "2025-01-22T14:23:33.332485Z",
     "start_time": "2025-01-22T14:23:33.323212Z"
    }
   },
   "cell_type": "code",
   "source": [
    "X = housing.data\n",
    "y = housing.target\n",
    "from sklearn.model_selection import train_test_split\n",
    "X_train_full, X_test, y_train_full, y_test = train_test_split(X, y, random_state=42)\n",
    "X_train, X_valid, y_train, y_valid = train_test_split(X_train_full, y_train_full, random_state=42)"
   ],
   "id": "80a6e538c77c1178",
   "outputs": [],
   "execution_count": 14
  },
  {
   "metadata": {},
   "cell_type": "markdown",
   "source": "We are now using the keras functional API to build the model. The functional API is more flexible than the sequential API as it allows us to use non-linear topology for building the layers. For example in this notebook, we are using the Wide&Deep architecture in which some parts of the input are connected directly to the output allowing us to skip some connections.",
   "id": "11fb3ce053aa7f1"
  },
  {
   "metadata": {},
   "cell_type": "markdown",
   "source": "In this example we are trying to send five features through the wide path and six features through the deep path.",
   "id": "dab32733f135d04b"
  },
  {
   "metadata": {
    "ExecuteTime": {
     "end_time": "2025-01-22T14:23:33.472718Z",
     "start_time": "2025-01-22T14:23:33.343398Z"
    }
   },
   "cell_type": "code",
   "source": [
    "input_wide = tf.keras.layers.Input(shape=[5])\n",
    "input_deep = tf.keras.layers.Input(shape=[6])\n",
    "norm_layer_wide = tf.keras.layers.Normalization()\n",
    "norm_layer_deep = tf.keras.layers.Normalization()\n",
    "norm_wide = norm_layer_wide(input_wide)\n",
    "norm_deep = norm_layer_deep(input_deep)\n",
    "hidden1 = tf.keras.layers.Dense(30,activation = \"relu\")(norm_deep)\n",
    "hidden2 = tf.keras.layers.Dense(30,activation = \"relu\")(hidden1)\n",
    "concat = tf.keras.layers.concatenate([norm_wide,hidden2])\n",
    "output = tf.keras.layers.Dense(1)(concat)\n",
    "model = tf.keras.Model(inputs=[input_wide,input_deep],outputs = [output])"
   ],
   "id": "7ff5f6cda15b4f43",
   "outputs": [],
   "execution_count": 15
  },
  {
   "metadata": {
    "ExecuteTime": {
     "end_time": "2025-01-22T14:27:26.303930Z",
     "start_time": "2025-01-22T14:27:26.282975Z"
    }
   },
   "cell_type": "code",
   "source": [
    "optimizer = tf.keras.optimizers.Adam(learning_rate = 1e-3)\n",
    "model.compile(loss = \"mse\", optimizer = optimizer, metrics = [\"RootMeanSquaredError\"])\n",
    "X_train_wide, X_train_deep = X_train[:,:5] , X_train[:,2:]\n",
    "X_valid_wide, X_valid_deep = X_valid[:,:5] , X_valid[:,2:]\n",
    "X_test_wide, X_test_deep = X_test[:,:5], X_test[:,2:]\n",
    "X_new_wide, X_new_deep = X_test_wide[:3], X_test_deep[:3]\n",
    "\n",
    "norm_layer_wide.adapt(X_train_wide)\n",
    "norm_layer_deep.adapt(X_train_deep)"
   ],
   "id": "fe687c395f6c195d",
   "outputs": [],
   "execution_count": 18
  },
  {
   "metadata": {
    "ExecuteTime": {
     "end_time": "2025-01-22T14:27:31.179682Z",
     "start_time": "2025-01-22T14:27:27.751224Z"
    }
   },
   "cell_type": "code",
   "source": [
    "history = model.fit((X_train_wide,X_train_deep),y_train,epochs = 20, validation_data = ((X_valid_wide,X_valid_deep),y_valid))\n",
    "mse_test = model.evaluate((X_test_wide,X_test_deep),y_test)\n",
    "y_pred = model.predict((X_new_wide,X_new_deep))"
   ],
   "id": "24883afbf5e73c7a",
   "outputs": [
    {
     "name": "stdout",
     "output_type": "stream",
     "text": [
      "Epoch 1/20\n"
     ]
    },
    {
     "name": "stderr",
     "output_type": "stream",
     "text": [
      "/Users/anupamg/opt/miniconda3/envs/AI/lib/python3.12/site-packages/keras/src/models/functional.py:225: UserWarning: The structure of `inputs` doesn't match the expected structure: ['keras_tensor_9', 'keras_tensor_10']. Received: the structure of inputs=('*', '*')\n",
      "  warnings.warn(\n"
     ]
    },
    {
     "name": "stdout",
     "output_type": "stream",
     "text": [
      "\u001B[1m363/363\u001B[0m \u001B[32m━━━━━━━━━━━━━━━━━━━━\u001B[0m\u001B[37m\u001B[0m \u001B[1m1s\u001B[0m 489us/step - RootMeanSquaredError: 1.7714 - loss: 3.2553 - val_RootMeanSquaredError: 2.7305 - val_loss: 7.4556\n",
      "Epoch 2/20\n",
      "\u001B[1m363/363\u001B[0m \u001B[32m━━━━━━━━━━━━━━━━━━━━\u001B[0m\u001B[37m\u001B[0m \u001B[1m0s\u001B[0m 310us/step - RootMeanSquaredError: 0.8024 - loss: 0.6445 - val_RootMeanSquaredError: 0.9808 - val_loss: 0.9620\n",
      "Epoch 3/20\n",
      "\u001B[1m363/363\u001B[0m \u001B[32m━━━━━━━━━━━━━━━━━━━━\u001B[0m\u001B[37m\u001B[0m \u001B[1m0s\u001B[0m 311us/step - RootMeanSquaredError: 0.6927 - loss: 0.4800 - val_RootMeanSquaredError: 0.6853 - val_loss: 0.4697\n",
      "Epoch 4/20\n",
      "\u001B[1m363/363\u001B[0m \u001B[32m━━━━━━━━━━━━━━━━━━━━\u001B[0m\u001B[37m\u001B[0m \u001B[1m0s\u001B[0m 351us/step - RootMeanSquaredError: 0.6517 - loss: 0.4250 - val_RootMeanSquaredError: 0.6654 - val_loss: 0.4428\n",
      "Epoch 5/20\n",
      "\u001B[1m363/363\u001B[0m \u001B[32m━━━━━━━━━━━━━━━━━━━━\u001B[0m\u001B[37m\u001B[0m \u001B[1m0s\u001B[0m 351us/step - RootMeanSquaredError: 0.6355 - loss: 0.4039 - val_RootMeanSquaredError: 0.7392 - val_loss: 0.5465\n",
      "Epoch 6/20\n",
      "\u001B[1m363/363\u001B[0m \u001B[32m━━━━━━━━━━━━━━━━━━━━\u001B[0m\u001B[37m\u001B[0m \u001B[1m0s\u001B[0m 339us/step - RootMeanSquaredError: 0.6130 - loss: 0.3760 - val_RootMeanSquaredError: 0.6229 - val_loss: 0.3880\n",
      "Epoch 7/20\n",
      "\u001B[1m363/363\u001B[0m \u001B[32m━━━━━━━━━━━━━━━━━━━━\u001B[0m\u001B[37m\u001B[0m \u001B[1m0s\u001B[0m 344us/step - RootMeanSquaredError: 0.6008 - loss: 0.3612 - val_RootMeanSquaredError: 1.0399 - val_loss: 1.0814\n",
      "Epoch 8/20\n",
      "\u001B[1m363/363\u001B[0m \u001B[32m━━━━━━━━━━━━━━━━━━━━\u001B[0m\u001B[37m\u001B[0m \u001B[1m0s\u001B[0m 334us/step - RootMeanSquaredError: 0.5916 - loss: 0.3503 - val_RootMeanSquaredError: 0.8564 - val_loss: 0.7334\n",
      "Epoch 9/20\n",
      "\u001B[1m363/363\u001B[0m \u001B[32m━━━━━━━━━━━━━━━━━━━━\u001B[0m\u001B[37m\u001B[0m \u001B[1m0s\u001B[0m 340us/step - RootMeanSquaredError: 0.5964 - loss: 0.3559 - val_RootMeanSquaredError: 1.6054 - val_loss: 2.5774\n",
      "Epoch 10/20\n",
      "\u001B[1m363/363\u001B[0m \u001B[32m━━━━━━━━━━━━━━━━━━━━\u001B[0m\u001B[37m\u001B[0m \u001B[1m0s\u001B[0m 339us/step - RootMeanSquaredError: 0.6036 - loss: 0.3647 - val_RootMeanSquaredError: 1.5847 - val_loss: 2.5112\n",
      "Epoch 11/20\n",
      "\u001B[1m363/363\u001B[0m \u001B[32m━━━━━━━━━━━━━━━━━━━━\u001B[0m\u001B[37m\u001B[0m \u001B[1m0s\u001B[0m 339us/step - RootMeanSquaredError: 0.6072 - loss: 0.3690 - val_RootMeanSquaredError: 1.3667 - val_loss: 1.8679\n",
      "Epoch 12/20\n",
      "\u001B[1m363/363\u001B[0m \u001B[32m━━━━━━━━━━━━━━━━━━━━\u001B[0m\u001B[37m\u001B[0m \u001B[1m0s\u001B[0m 344us/step - RootMeanSquaredError: 0.5828 - loss: 0.3400 - val_RootMeanSquaredError: 0.8137 - val_loss: 0.6620\n",
      "Epoch 13/20\n",
      "\u001B[1m363/363\u001B[0m \u001B[32m━━━━━━━━━━━━━━━━━━━━\u001B[0m\u001B[37m\u001B[0m \u001B[1m0s\u001B[0m 340us/step - RootMeanSquaredError: 0.5875 - loss: 0.3452 - val_RootMeanSquaredError: 0.8255 - val_loss: 0.6814\n",
      "Epoch 14/20\n",
      "\u001B[1m363/363\u001B[0m \u001B[32m━━━━━━━━━━━━━━━━━━━━\u001B[0m\u001B[37m\u001B[0m \u001B[1m0s\u001B[0m 334us/step - RootMeanSquaredError: 0.5741 - loss: 0.3297 - val_RootMeanSquaredError: 0.6460 - val_loss: 0.4173\n",
      "Epoch 15/20\n",
      "\u001B[1m363/363\u001B[0m \u001B[32m━━━━━━━━━━━━━━━━━━━━\u001B[0m\u001B[37m\u001B[0m \u001B[1m0s\u001B[0m 358us/step - RootMeanSquaredError: 0.5804 - loss: 0.3370 - val_RootMeanSquaredError: 0.9462 - val_loss: 0.8954\n",
      "Epoch 16/20\n",
      "\u001B[1m363/363\u001B[0m \u001B[32m━━━━━━━━━━━━━━━━━━━━\u001B[0m\u001B[37m\u001B[0m \u001B[1m0s\u001B[0m 343us/step - RootMeanSquaredError: 0.5744 - loss: 0.3299 - val_RootMeanSquaredError: 0.8116 - val_loss: 0.6586\n",
      "Epoch 17/20\n",
      "\u001B[1m363/363\u001B[0m \u001B[32m━━━━━━━━━━━━━━━━━━━━\u001B[0m\u001B[37m\u001B[0m \u001B[1m0s\u001B[0m 346us/step - RootMeanSquaredError: 0.5854 - loss: 0.3429 - val_RootMeanSquaredError: 1.3035 - val_loss: 1.6992\n",
      "Epoch 18/20\n",
      "\u001B[1m363/363\u001B[0m \u001B[32m━━━━━━━━━━━━━━━━━━━━\u001B[0m\u001B[37m\u001B[0m \u001B[1m0s\u001B[0m 337us/step - RootMeanSquaredError: 0.5717 - loss: 0.3269 - val_RootMeanSquaredError: 0.8253 - val_loss: 0.6811\n",
      "Epoch 19/20\n",
      "\u001B[1m363/363\u001B[0m \u001B[32m━━━━━━━━━━━━━━━━━━━━\u001B[0m\u001B[37m\u001B[0m \u001B[1m0s\u001B[0m 337us/step - RootMeanSquaredError: 0.5741 - loss: 0.3297 - val_RootMeanSquaredError: 1.2150 - val_loss: 1.4761\n",
      "Epoch 20/20\n",
      "\u001B[1m363/363\u001B[0m \u001B[32m━━━━━━━━━━━━━━━━━━━━\u001B[0m\u001B[37m\u001B[0m \u001B[1m0s\u001B[0m 344us/step - RootMeanSquaredError: 0.6033 - loss: 0.3663 - val_RootMeanSquaredError: 0.9938 - val_loss: 0.9876\n",
      "\u001B[1m162/162\u001B[0m \u001B[32m━━━━━━━━━━━━━━━━━━━━\u001B[0m\u001B[37m\u001B[0m \u001B[1m0s\u001B[0m 202us/step - RootMeanSquaredError: 0.5748 - loss: 0.3305\n",
      "\u001B[1m1/1\u001B[0m \u001B[32m━━━━━━━━━━━━━━━━━━━━\u001B[0m\u001B[37m\u001B[0m \u001B[1m0s\u001B[0m 23ms/step\n"
     ]
    }
   ],
   "execution_count": 19
  }
 ],
 "metadata": {
  "kernelspec": {
   "display_name": "Python 3",
   "language": "python",
   "name": "python3"
  },
  "language_info": {
   "codemirror_mode": {
    "name": "ipython",
    "version": 2
   },
   "file_extension": ".py",
   "mimetype": "text/x-python",
   "name": "python",
   "nbconvert_exporter": "python",
   "pygments_lexer": "ipython2",
   "version": "2.7.6"
  }
 },
 "nbformat": 4,
 "nbformat_minor": 5
}
