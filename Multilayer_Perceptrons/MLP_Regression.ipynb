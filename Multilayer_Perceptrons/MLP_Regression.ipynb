{
 "cells": [
  {
   "cell_type": "code",
   "execution_count": 1,
   "id": "initial_id",
   "metadata": {
    "ExecuteTime": {
     "end_time": "2024-07-08T16:57:02.916896Z",
     "start_time": "2024-07-08T16:56:58.615228Z"
    },
    "collapsed": true
   },
   "outputs": [],
   "source": [
    "import numpy as np\n",
    "import pandas as pd\n",
    "import tensorflow as tf"
   ]
  },
  {
   "cell_type": "code",
   "execution_count": 2,
   "id": "d7ad179e7fc498f3",
   "metadata": {
    "ExecuteTime": {
     "end_time": "2024-07-08T16:57:04.918631Z",
     "start_time": "2024-07-08T16:57:02.918143Z"
    }
   },
   "outputs": [],
   "source": [
    "from sklearn.datasets import fetch_california_housing\n",
    "housing = fetch_california_housing()"
   ]
  },
  {
   "cell_type": "code",
   "execution_count": 3,
   "id": "38262e48bf038a14",
   "metadata": {
    "ExecuteTime": {
     "end_time": "2024-07-08T16:57:04.921283Z",
     "start_time": "2024-07-08T16:57:04.919446Z"
    }
   },
   "outputs": [],
   "source": [
    "X = housing.data\n",
    "y = housing.target"
   ]
  },
  {
   "cell_type": "code",
   "execution_count": 4,
   "id": "fb7e350994c3ae0e",
   "metadata": {
    "ExecuteTime": {
     "end_time": "2024-07-08T16:57:05.127206Z",
     "start_time": "2024-07-08T16:57:04.922911Z"
    }
   },
   "outputs": [],
   "source": [
    "from sklearn.model_selection import train_test_split\n",
    "\n",
    "X_train,X_test,y_train,y_test = train_test_split(X,y,test_size = 0.2,random_state=42)"
   ]
  },
  {
   "cell_type": "code",
   "execution_count": 5,
   "id": "5a13c98bf605f8b3",
   "metadata": {
    "ExecuteTime": {
     "end_time": "2024-07-08T16:57:05.215974Z",
     "start_time": "2024-07-08T16:57:05.127980Z"
    }
   },
   "outputs": [
    {
     "name": "stderr",
     "output_type": "stream",
     "text": [
      "/Users/anupamg/opt/miniconda3/envs/AI/lib/python3.12/site-packages/keras/src/layers/preprocessing/tf_data_layer.py:19: UserWarning: Do not pass an `input_shape`/`input_dim` argument to a layer. When using Sequential models, prefer using an `Input(shape)` object as the first layer in the model instead.\n",
      "  super().__init__(**kwargs)\n"
     ]
    }
   ],
   "source": [
    "tf.random.set_seed(42)\n",
    "norm_layer = tf.keras.layers.Normalization(input_shape=X_train.shape[1:])\n",
    "model = tf.keras.Sequential([\n",
    "    norm_layer,\n",
    "    tf.keras.layers.Dense(50,activation='relu'),\n",
    "    tf.keras.layers.Dense(50,activation='relu'),\n",
    "    tf.keras.layers.Dense(50,activation='relu'),\n",
    "    tf.keras.layers.Dense(1)\n",
    "])"
   ]
  },
  {
   "cell_type": "code",
   "execution_count": 6,
   "id": "eeb7b4c1e246d844",
   "metadata": {
    "ExecuteTime": {
     "end_time": "2024-07-08T16:57:11.945368Z",
     "start_time": "2024-07-08T16:57:05.217146Z"
    }
   },
   "outputs": [
    {
     "name": "stdout",
     "output_type": "stream",
     "text": [
      "Epoch 1/20\n",
      "\u001b[1m516/516\u001b[0m \u001b[32m━━━━━━━━━━━━━━━━━━━━\u001b[0m\u001b[37m\u001b[0m \u001b[1m1s\u001b[0m 299us/step - RootMeanSquaredError: 1.1128 - loss: 1.3186\n",
      "Epoch 2/20\n",
      "\u001b[1m516/516\u001b[0m \u001b[32m━━━━━━━━━━━━━━━━━━━━\u001b[0m\u001b[37m\u001b[0m \u001b[1m0s\u001b[0m 290us/step - RootMeanSquaredError: 0.6250 - loss: 0.3907\n",
      "Epoch 3/20\n",
      "\u001b[1m516/516\u001b[0m \u001b[32m━━━━━━━━━━━━━━━━━━━━\u001b[0m\u001b[37m\u001b[0m \u001b[1m0s\u001b[0m 330us/step - RootMeanSquaredError: 0.5951 - loss: 0.3542\n",
      "Epoch 4/20\n",
      "\u001b[1m516/516\u001b[0m \u001b[32m━━━━━━━━━━━━━━━━━━━━\u001b[0m\u001b[37m\u001b[0m \u001b[1m0s\u001b[0m 283us/step - RootMeanSquaredError: 0.5814 - loss: 0.3381\n",
      "Epoch 5/20\n",
      "\u001b[1m516/516\u001b[0m \u001b[32m━━━━━━━━━━━━━━━━━━━━\u001b[0m\u001b[37m\u001b[0m \u001b[1m0s\u001b[0m 281us/step - RootMeanSquaredError: 0.5699 - loss: 0.3249\n",
      "Epoch 6/20\n",
      "\u001b[1m516/516\u001b[0m \u001b[32m━━━━━━━━━━━━━━━━━━━━\u001b[0m\u001b[37m\u001b[0m \u001b[1m0s\u001b[0m 286us/step - RootMeanSquaredError: 0.5598 - loss: 0.3135\n",
      "Epoch 7/20\n",
      "\u001b[1m516/516\u001b[0m \u001b[32m━━━━━━━━━━━━━━━━━━━━\u001b[0m\u001b[37m\u001b[0m \u001b[1m0s\u001b[0m 276us/step - RootMeanSquaredError: 0.5528 - loss: 0.3057\n",
      "Epoch 8/20\n",
      "\u001b[1m516/516\u001b[0m \u001b[32m━━━━━━━━━━━━━━━━━━━━\u001b[0m\u001b[37m\u001b[0m \u001b[1m0s\u001b[0m 282us/step - RootMeanSquaredError: 0.5471 - loss: 0.2994\n",
      "Epoch 9/20\n",
      "\u001b[1m516/516\u001b[0m \u001b[32m━━━━━━━━━━━━━━━━━━━━\u001b[0m\u001b[37m\u001b[0m \u001b[1m0s\u001b[0m 289us/step - RootMeanSquaredError: 0.5431 - loss: 0.2951\n",
      "Epoch 10/20\n",
      "\u001b[1m516/516\u001b[0m \u001b[32m━━━━━━━━━━━━━━━━━━━━\u001b[0m\u001b[37m\u001b[0m \u001b[1m0s\u001b[0m 284us/step - RootMeanSquaredError: 0.5392 - loss: 0.2909\n",
      "Epoch 11/20\n",
      "\u001b[1m516/516\u001b[0m \u001b[32m━━━━━━━━━━━━━━━━━━━━\u001b[0m\u001b[37m\u001b[0m \u001b[1m0s\u001b[0m 288us/step - RootMeanSquaredError: 0.5370 - loss: 0.2885\n",
      "Epoch 12/20\n",
      "\u001b[1m516/516\u001b[0m \u001b[32m━━━━━━━━━━━━━━━━━━━━\u001b[0m\u001b[37m\u001b[0m \u001b[1m0s\u001b[0m 291us/step - RootMeanSquaredError: 0.5332 - loss: 0.2845\n",
      "Epoch 13/20\n",
      "\u001b[1m516/516\u001b[0m \u001b[32m━━━━━━━━━━━━━━━━━━━━\u001b[0m\u001b[37m\u001b[0m \u001b[1m0s\u001b[0m 293us/step - RootMeanSquaredError: 0.5296 - loss: 0.2807\n",
      "Epoch 14/20\n",
      "\u001b[1m516/516\u001b[0m \u001b[32m━━━━━━━━━━━━━━━━━━━━\u001b[0m\u001b[37m\u001b[0m \u001b[1m0s\u001b[0m 283us/step - RootMeanSquaredError: 0.5262 - loss: 0.2770\n",
      "Epoch 15/20\n",
      "\u001b[1m516/516\u001b[0m \u001b[32m━━━━━━━━━━━━━━━━━━━━\u001b[0m\u001b[37m\u001b[0m \u001b[1m0s\u001b[0m 287us/step - RootMeanSquaredError: 0.5222 - loss: 0.2728\n",
      "Epoch 16/20\n",
      "\u001b[1m516/516\u001b[0m \u001b[32m━━━━━━━━━━━━━━━━━━━━\u001b[0m\u001b[37m\u001b[0m \u001b[1m0s\u001b[0m 282us/step - RootMeanSquaredError: 0.5205 - loss: 0.2711\n",
      "Epoch 17/20\n",
      "\u001b[1m516/516\u001b[0m \u001b[32m━━━━━━━━━━━━━━━━━━━━\u001b[0m\u001b[37m\u001b[0m \u001b[1m0s\u001b[0m 279us/step - RootMeanSquaredError: 0.5179 - loss: 0.2684\n",
      "Epoch 18/20\n",
      "\u001b[1m516/516\u001b[0m \u001b[32m━━━━━━━━━━━━━━━━━━━━\u001b[0m\u001b[37m\u001b[0m \u001b[1m0s\u001b[0m 285us/step - RootMeanSquaredError: 0.5161 - loss: 0.2666\n",
      "Epoch 19/20\n",
      "\u001b[1m516/516\u001b[0m \u001b[32m━━━━━━━━━━━━━━━━━━━━\u001b[0m\u001b[37m\u001b[0m \u001b[1m0s\u001b[0m 290us/step - RootMeanSquaredError: 0.5138 - loss: 0.2642\n",
      "Epoch 20/20\n",
      "\u001b[1m516/516\u001b[0m \u001b[32m━━━━━━━━━━━━━━━━━━━━\u001b[0m\u001b[37m\u001b[0m \u001b[1m0s\u001b[0m 281us/step - RootMeanSquaredError: 0.5109 - loss: 0.2612\n"
     ]
    }
   ],
   "source": [
    "optimizer = tf.keras.optimizers.Adam(learning_rate = 1e-3)\n",
    "model.compile(loss=\"mse\",optimizer=optimizer,metrics=[\"RootMeanSquaredError\"])\n",
    "norm_layer.adapt(X_train)\n",
    "history = model.fit(X_train,y_train,epochs=20)"
   ]
  },
  {
   "cell_type": "code",
   "execution_count": 7,
   "id": "7b6acac44a6216bd",
   "metadata": {
    "ExecuteTime": {
     "end_time": "2024-07-08T16:57:12.226925Z",
     "start_time": "2024-07-08T16:57:11.946632Z"
    }
   },
   "outputs": [
    {
     "name": "stdout",
     "output_type": "stream",
     "text": [
      "\u001b[1m129/129\u001b[0m \u001b[32m━━━━━━━━━━━━━━━━━━━━\u001b[0m\u001b[37m\u001b[0m \u001b[1m0s\u001b[0m 240us/step - RootMeanSquaredError: 0.5277 - loss: 0.2788\n",
      "\u001b[1m1/1\u001b[0m \u001b[32m━━━━━━━━━━━━━━━━━━━━\u001b[0m\u001b[37m\u001b[0m \u001b[1m0s\u001b[0m 25ms/step\n"
     ]
    }
   ],
   "source": [
    "mse_test, rmse_test = model.evaluate(X_test,y_test)\n",
    "X_new = X_test[:3]\n",
    "y_pred = model.predict(X_new)"
   ]
  },
  {
   "cell_type": "code",
   "execution_count": 8,
   "id": "772ee3bfaee405ad",
   "metadata": {
    "ExecuteTime": {
     "end_time": "2024-07-08T16:57:12.229594Z",
     "start_time": "2024-07-08T16:57:12.227825Z"
    }
   },
   "outputs": [],
   "source": []
  }
 ],
 "metadata": {
  "kernelspec": {
   "display_name": "AI",
   "language": "python",
   "name": "python3"
  },
  "language_info": {
   "codemirror_mode": {
    "name": "ipython",
    "version": 3
   },
   "file_extension": ".py",
   "mimetype": "text/x-python",
   "name": "python",
   "nbconvert_exporter": "python",
   "pygments_lexer": "ipython3",
   "version": "3.12.8"
  }
 },
 "nbformat": 4,
 "nbformat_minor": 5
}
