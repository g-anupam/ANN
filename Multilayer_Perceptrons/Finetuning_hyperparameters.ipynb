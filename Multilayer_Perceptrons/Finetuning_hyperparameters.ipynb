{
 "cells": [
  {
   "cell_type": "code",
   "id": "initial_id",
   "metadata": {
    "collapsed": true,
    "ExecuteTime": {
     "end_time": "2025-01-22T16:41:01.659690Z",
     "start_time": "2025-01-22T16:41:01.649862Z"
    }
   },
   "source": [
    "import tensorflow as tf\n",
    "import keras_tuner as kt"
   ],
   "outputs": [],
   "execution_count": 3
  },
  {
   "metadata": {
    "ExecuteTime": {
     "end_time": "2025-01-22T16:41:02.036609Z",
     "start_time": "2025-01-22T16:41:01.676916Z"
    }
   },
   "cell_type": "code",
   "source": [
    "fashion_mnist = tf.keras.datasets.fashion_mnist.load_data()\n",
    "(X_train_full, y_train_full),(X_test,y_test) = fashion_mnist\n",
    "X_train, y_train = X_train_full[:-5000], y_train_full[:-5000]\n",
    "X_valid, y_valid = X_train_full[-5000:], y_train_full[-5000:]"
   ],
   "id": "11c68544397f7376",
   "outputs": [],
   "execution_count": 4
  },
  {
   "metadata": {
    "ExecuteTime": {
     "end_time": "2025-01-22T16:41:02.051218Z",
     "start_time": "2025-01-22T16:41:02.040799Z"
    }
   },
   "cell_type": "code",
   "source": [
    "def build_model(hp):\n",
    "    n_hidden = hp.Int(\"n_hidden\",min_value = 0, max_value = 8, default = 2)\n",
    "    n_neurons = hp.Int(\"n_neurons\",min_value = 16, max_value = 256)\n",
    "    learning_rate = hp.Float(\"learning_rate\",min_value = 1e-4, max_value = 1e-2, sampling = \"log\")\n",
    "    optimizer = hp.Choice(\"optimizer\", values = [\"sgd\",\"adam\"])\n",
    "    if optimizer == \"sgd\":\n",
    "        optimizer = tf.keras.optimizers.SGD(learning_rate = learning_rate)\n",
    "    else:\n",
    "        optimizer = tf.keras.optimizers.Adam(learning_rate = learning_rate)\n",
    "\n",
    "    model = tf.keras.Sequential()\n",
    "    model.add(tf.keras.layers.Flatten())\n",
    "    for i in range(n_hidden):\n",
    "        model.add(tf.keras.layers.Dense(n_neurons,activation = \"relu\"))\n",
    "    model.add(tf.keras.layers.Dense(10,activation = \"softmax\"))\n",
    "    model.compile(loss = \"sparse_categorical_crossentropy\", optimizer = optimizer, metrics = [\"accuracy\"])\n",
    "    return model"
   ],
   "id": "ad5bf8cea5522f99",
   "outputs": [],
   "execution_count": 5
  },
  {
   "metadata": {},
   "cell_type": "code",
   "source": [
    "random_search_tuner = kt.RandomSearch(\n",
    "    build_model, objective = \"val_accuracy\", max_trials = 5, overwrite = True, directory = \"my_fashion_mnist\",\n",
    "    project_name = \"my_rnd_search\", seed = 42)\n",
    "random_search_tuner.search(X_train,y_train,epochs = 10, validation_data = (X_valid, y_valid))"
   ],
   "id": "f0c42f694b4ff02f",
   "execution_count": 6,
   "outputs": [
    {
     "name": "stdout",
     "output_type": "stream",
     "text": [
      "Trial 5 Complete [00h 00m 19s]\n",
      "val_accuracy: 0.8343999981880188\n",
      "\n",
      "Best val_accuracy So Far: 0.8640000224113464\n",
      "Total elapsed time: 00h 01m 45s\n"
     ]
    }
   ]
  },
  {
   "metadata": {
    "ExecuteTime": {
     "end_time": "2025-01-22T16:48:56.466671Z",
     "start_time": "2025-01-22T16:48:55.568533Z"
    }
   },
   "cell_type": "code",
   "source": [
    "top3_models = random_search_tuner.get_best_models(num_models = 3)\n",
    "best_model = top3_models[0]"
   ],
   "id": "f900b3bf8ea8d272",
   "outputs": [],
   "execution_count": 9
  },
  {
   "metadata": {
    "ExecuteTime": {
     "end_time": "2025-01-22T16:49:42.012538Z",
     "start_time": "2025-01-22T16:49:41.997500Z"
    }
   },
   "cell_type": "code",
   "source": [
    "top3_params = random_search_tuner.get_best_hyperparameters(num_trials= 3)\n",
    "top3_params[0].values"
   ],
   "id": "f3d9ef4155cd0d8c",
   "outputs": [
    {
     "data": {
      "text/plain": [
       "{'n_hidden': 7,\n",
       " 'n_neurons': 100,\n",
       " 'learning_rate': 0.0012482904754698163,\n",
       " 'optimizer': 'sgd'}"
      ]
     },
     "execution_count": 10,
     "metadata": {},
     "output_type": "execute_result"
    }
   ],
   "execution_count": 10
  },
  {
   "metadata": {
    "ExecuteTime": {
     "end_time": "2025-01-22T16:50:56.824011Z",
     "start_time": "2025-01-22T16:50:56.819466Z"
    }
   },
   "cell_type": "code",
   "source": [
    "best_trial = random_search_tuner.oracle.get_best_trials(num_trials = 1)[0]\n",
    "best_trial.summary()"
   ],
   "id": "2d57324234d638f4",
   "outputs": [
    {
     "name": "stdout",
     "output_type": "stream",
     "text": [
      "Trial 1 summary\n",
      "Hyperparameters:\n",
      "n_hidden: 7\n",
      "n_neurons: 100\n",
      "learning_rate: 0.0012482904754698163\n",
      "optimizer: sgd\n",
      "Score: 0.8640000224113464\n"
     ]
    }
   ],
   "execution_count": 12
  },
  {
   "metadata": {
    "ExecuteTime": {
     "end_time": "2025-01-22T16:51:29.786540Z",
     "start_time": "2025-01-22T16:51:29.774247Z"
    }
   },
   "cell_type": "code",
   "source": "best_trial.metrics.get_last_value(\"val_accuracy\")",
   "id": "f589e810a27dc03c",
   "outputs": [
    {
     "data": {
      "text/plain": [
       "0.8640000224113464"
      ]
     },
     "execution_count": 13,
     "metadata": {},
     "output_type": "execute_result"
    }
   ],
   "execution_count": 13
  },
  {
   "metadata": {
    "ExecuteTime": {
     "end_time": "2025-01-22T16:52:57.951077Z",
     "start_time": "2025-01-22T16:52:36.424562Z"
    }
   },
   "cell_type": "code",
   "source": [
    "best_model.fit(X_train_full,y_train_full,epochs = 10)\n",
    "test_loss, test_accuracy = best_model.evaluate(X_test, y_test)"
   ],
   "id": "251eb64d28acf1f7",
   "outputs": [
    {
     "name": "stdout",
     "output_type": "stream",
     "text": [
      "Epoch 1/10\n",
      "\u001B[1m1875/1875\u001B[0m \u001B[32m━━━━━━━━━━━━━━━━━━━━\u001B[0m\u001B[37m\u001B[0m \u001B[1m2s\u001B[0m 889us/step - accuracy: 0.8809 - loss: 0.3251\n",
      "Epoch 2/10\n",
      "\u001B[1m1875/1875\u001B[0m \u001B[32m━━━━━━━━━━━━━━━━━━━━\u001B[0m\u001B[37m\u001B[0m \u001B[1m2s\u001B[0m 897us/step - accuracy: 0.8833 - loss: 0.3173\n",
      "Epoch 3/10\n",
      "\u001B[1m1875/1875\u001B[0m \u001B[32m━━━━━━━━━━━━━━━━━━━━\u001B[0m\u001B[37m\u001B[0m \u001B[1m2s\u001B[0m 915us/step - accuracy: 0.8838 - loss: 0.3126\n",
      "Epoch 4/10\n",
      "\u001B[1m1875/1875\u001B[0m \u001B[32m━━━━━━━━━━━━━━━━━━━━\u001B[0m\u001B[37m\u001B[0m \u001B[1m2s\u001B[0m 938us/step - accuracy: 0.8886 - loss: 0.2995\n",
      "Epoch 5/10\n",
      "\u001B[1m1875/1875\u001B[0m \u001B[32m━━━━━━━━━━━━━━━━━━━━\u001B[0m\u001B[37m\u001B[0m \u001B[1m2s\u001B[0m 1ms/step - accuracy: 0.8902 - loss: 0.2973\n",
      "Epoch 6/10\n",
      "\u001B[1m1875/1875\u001B[0m \u001B[32m━━━━━━━━━━━━━━━━━━━━\u001B[0m\u001B[37m\u001B[0m \u001B[1m2s\u001B[0m 1ms/step - accuracy: 0.8935 - loss: 0.2850\n",
      "Epoch 7/10\n",
      "\u001B[1m1875/1875\u001B[0m \u001B[32m━━━━━━━━━━━━━━━━━━━━\u001B[0m\u001B[37m\u001B[0m \u001B[1m2s\u001B[0m 1ms/step - accuracy: 0.8948 - loss: 0.2802\n",
      "Epoch 8/10\n",
      "\u001B[1m1875/1875\u001B[0m \u001B[32m━━━━━━━━━━━━━━━━━━━━\u001B[0m\u001B[37m\u001B[0m \u001B[1m2s\u001B[0m 1ms/step - accuracy: 0.8960 - loss: 0.2787\n",
      "Epoch 9/10\n",
      "\u001B[1m1875/1875\u001B[0m \u001B[32m━━━━━━━━━━━━━━━━━━━━\u001B[0m\u001B[37m\u001B[0m \u001B[1m2s\u001B[0m 1ms/step - accuracy: 0.9006 - loss: 0.2705\n",
      "Epoch 10/10\n",
      "\u001B[1m1875/1875\u001B[0m \u001B[32m━━━━━━━━━━━━━━━━━━━━\u001B[0m\u001B[37m\u001B[0m \u001B[1m2s\u001B[0m 1ms/step - accuracy: 0.8994 - loss: 0.2690\n",
      "\u001B[1m313/313\u001B[0m \u001B[32m━━━━━━━━━━━━━━━━━━━━\u001B[0m\u001B[37m\u001B[0m \u001B[1m0s\u001B[0m 635us/step - accuracy: 0.8599 - loss: 0.3995\n"
     ]
    }
   ],
   "execution_count": 14
  },
  {
   "metadata": {
    "ExecuteTime": {
     "end_time": "2025-01-22T16:53:17.603412Z",
     "start_time": "2025-01-22T16:53:17.595524Z"
    }
   },
   "cell_type": "code",
   "source": "print(test_loss, test_accuracy)",
   "id": "a84f0274e7d69e11",
   "outputs": [
    {
     "name": "stdout",
     "output_type": "stream",
     "text": [
      "0.3931198716163635 0.8622999787330627\n"
     ]
    }
   ],
   "execution_count": 15
  },
  {
   "metadata": {},
   "cell_type": "code",
   "outputs": [],
   "execution_count": null,
   "source": "",
   "id": "2743e51434dfcdd0"
  }
 ],
 "metadata": {
  "kernelspec": {
   "display_name": "Python 3",
   "language": "python",
   "name": "python3"
  },
  "language_info": {
   "codemirror_mode": {
    "name": "ipython",
    "version": 2
   },
   "file_extension": ".py",
   "mimetype": "text/x-python",
   "name": "python",
   "nbconvert_exporter": "python",
   "pygments_lexer": "ipython2",
   "version": "2.7.6"
  }
 },
 "nbformat": 4,
 "nbformat_minor": 5
}
