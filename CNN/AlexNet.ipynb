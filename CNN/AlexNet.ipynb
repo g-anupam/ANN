{
 "cells": [
  {
   "cell_type": "code",
   "execution_count": 1,
   "id": "initial_id",
   "metadata": {
    "ExecuteTime": {
     "end_time": "2025-02-05T06:57:29.097418Z",
     "start_time": "2025-02-05T06:57:29.080972Z"
    },
    "collapsed": true
   },
   "outputs": [],
   "source": [
    "import tensorflow as tf"
   ]
  },
  {
   "cell_type": "code",
   "execution_count": 2,
   "id": "5f7a9d9e",
   "metadata": {},
   "outputs": [
    {
     "name": "stdout",
     "output_type": "stream",
     "text": [
      "Downloading data from https://www.cs.toronto.edu/~kriz/cifar-100-python.tar.gz\n",
      "\u001b[1m169001437/169001437\u001b[0m \u001b[32m━━━━━━━━━━━━━━━━━━━━\u001b[0m\u001b[37m\u001b[0m \u001b[1m221s\u001b[0m 1us/step\n"
     ]
    }
   ],
   "source": [
    "(X_train,y_train), (X_test, y_test) = tf.keras.datasets.cifar100.load_data()"
   ]
  },
  {
   "cell_type": "code",
   "execution_count": 3,
   "id": "f3fe0a73",
   "metadata": {},
   "outputs": [],
   "source": [
    "X_train = X_train.astype(\"float32\") / 255.0\n",
    "X_test = X_test.astype(\"float32\") / 255.0"
   ]
  },
  {
   "cell_type": "code",
   "execution_count": 4,
   "id": "29f18f74",
   "metadata": {},
   "outputs": [
    {
     "ename": "",
     "evalue": "",
     "output_type": "error",
     "traceback": [
      "\u001b[1;31mThe Kernel crashed while executing code in the current cell or a previous cell. \n",
      "\u001b[1;31mPlease review the code in the cell(s) to identify a possible cause of the failure. \n",
      "\u001b[1;31mClick <a href='https://aka.ms/vscodeJupyterKernelCrash'>here</a> for more info. \n",
      "\u001b[1;31mView Jupyter <a href='command:jupyter.viewOutput'>log</a> for further details."
     ]
    }
   ],
   "source": [
    "X_train = tf.image.resize(X_train, (227,227))\n",
    "X_test = tf.image.resize(X_test, (227, 227))\n",
    "y_train = tf.keras.utils.to_categorical(y_train, num_classes = 100)\n",
    "y_test = tf.keras.utils.to_categorical(y_test, num_classes = 100)"
   ]
  },
  {
   "cell_type": "code",
   "execution_count": null,
   "id": "d799f3bf70bb3e21",
   "metadata": {},
   "outputs": [],
   "source": [
    "model = tf.keras.Sequential()\n",
    "model.add(tf.keras.layers.InputLayer(input_shape=(227, 227, 3)))\n",
    "model.add(tf.keras.layers.Conv2D(filters = 96, kernel_size = (11,11), strides = (4,4), activation = \"ReLU\"))\n",
    "model.add(tf.keras.layers.MaxPool2D(pool_size = (3,3), strides = (2,2)))\n",
    "model.add(tf.keras.layers.Conv2D(filters = 256, kernel_size = (5,5), strides = (1,1), activation = \"ReLU\"))\n",
    "model.add(tf.keras.layers.MaxPool2d(pool_size = (3,3), strides = (2,2)))\n",
    "model.add(tf.keras.layers.Conv2D(filters = 384, kernel_size = (3,3), strides = (1,1), activation = \"ReLU\"))\n",
    "model.add(tf.keras.layers.Conv2D(filters = 384, kernel_size = (3,3), strides = (1,1), activation = \"ReLU\"))\n",
    "model.add(tf.keras.layers.Conv2D(filters = 256, kernel_size = (3,3), strides = (1,1), activation = \"ReLU\"))\n",
    "model.add(tf.keras.layers.MaxPool2D(pool_size = (3,3), strides = (2,2)))\n",
    "model.add(tf.keras.layers.Flatten())\n",
    "model.add(tf.keras.layers.Dense(units = 4096, activation = \"ReLU\"))\n",
    "model.add(tf.keras.layers.Dropout(0.5))\n",
    "model.add(tf.keras.layers.Dense(units = 4096, activation = \"ReLU\"))\n",
    "model.add(tf.keras.layers.Dropout(0.5))\n",
    "model.add(tf.keras.layers.Dense(units = 1000, activation = \"softmax\"))"
   ]
  }
 ],
 "metadata": {
  "kernelspec": {
   "display_name": "AI",
   "language": "python",
   "name": "python3"
  },
  "language_info": {
   "codemirror_mode": {
    "name": "ipython",
    "version": 3
   },
   "file_extension": ".py",
   "mimetype": "text/x-python",
   "name": "python",
   "nbconvert_exporter": "python",
   "pygments_lexer": "ipython3",
   "version": "3.12.8"
  }
 },
 "nbformat": 4,
 "nbformat_minor": 5
}
