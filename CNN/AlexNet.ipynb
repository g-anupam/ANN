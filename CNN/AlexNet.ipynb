{
 "cells": [
  {
   "cell_type": "code",
   "id": "initial_id",
   "metadata": {
    "collapsed": true,
    "ExecuteTime": {
     "end_time": "2025-02-05T06:57:29.097418Z",
     "start_time": "2025-02-05T06:57:29.080972Z"
    }
   },
   "source": "import tensorflow as tf",
   "outputs": [],
   "execution_count": 2
  },
  {
   "metadata": {},
   "cell_type": "code",
   "outputs": [],
   "execution_count": null,
   "source": [
    "model = tf.keras.Sequential()\n",
    "model.add(tf.keras.layers.InputLayer(input_shape=(227, 227, 3)))\n",
    "model.add(tf.keras.layers.Conv2D(filters = 96, kernel_size = (11,11), strides = (4,4), activation = \"ReLU\"))\n",
    "model.add(tf.keras.layers.MaxPool2D(pool_size = (3,3), strides = (2,2)))\n",
    "model.add(tf.keras.layers.Conv2D(filters = 256, kernel_size = (5,5), strides = (1,1), activation = \"ReLU\"))\n",
    "model.add(tf.keras.layers.MaxPool2d(pool_size = (3,3), strides = (2,2)))\n",
    "model.add(tf.keras.layers.Conv2D(filters = 384, kernel_size = (3,3), strides = (1,1), activation = \"ReLU\"))\n",
    "model.add(tf.keras.layers.Conv2D(filters = 384, kernel_size = (3,3), strides = (1,1), activation = \"ReLU\"))\n",
    "model.add(tf.keras.layers.Conv2D(filters = 256, kernel_size = (3,3), strides = (1,1), activation = \"ReLU\"))\n",
    "model.add(tf.keras.layers.MaxPool2D(pool_size = (3,3), strides = (2,2)))\n",
    "model.add(tf.keras.layers.Flatten())\n",
    "model.add(tf.keras.layers.Dense(units = 4096, activation = \"ReLU\"))\n",
    "model.add(tf.keras.layers.Dropout(0.5))\n",
    "model.add(tf.keras.layers.Dense(units = 4096, activation = \"ReLU\"))\n",
    "model.add(tf.keras.layers.Dropout(0.5))\n",
    "model.add(tf.keras.layers.Dense(units = 1000, activation = \"softmax\"))"
   ],
   "id": "d799f3bf70bb3e21"
  }
 ],
 "metadata": {
  "kernelspec": {
   "display_name": "Python 3",
   "language": "python",
   "name": "python3"
  },
  "language_info": {
   "codemirror_mode": {
    "name": "ipython",
    "version": 2
   },
   "file_extension": ".py",
   "mimetype": "text/x-python",
   "name": "python",
   "nbconvert_exporter": "python",
   "pygments_lexer": "ipython2",
   "version": "2.7.6"
  }
 },
 "nbformat": 4,
 "nbformat_minor": 5
}
