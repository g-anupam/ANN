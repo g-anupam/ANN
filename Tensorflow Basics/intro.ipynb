{
 "cells": [
  {
   "cell_type": "code",
   "id": "initial_id",
   "metadata": {
    "collapsed": true,
    "ExecuteTime": {
     "end_time": "2025-01-27T15:31:17.879894Z",
     "start_time": "2025-01-27T15:31:17.877562Z"
    }
   },
   "source": "import tensorflow as tf",
   "outputs": [],
   "execution_count": 8
  },
  {
   "metadata": {
    "ExecuteTime": {
     "end_time": "2025-01-27T15:31:17.890106Z",
     "start_time": "2025-01-27T15:31:17.887682Z"
    }
   },
   "cell_type": "code",
   "source": "matrix = tf.constant([[1,2,3],[4,5,6],[7,8,9]]) #This is a 3D matrix in tf",
   "id": "88a8906d5f93c59c",
   "outputs": [],
   "execution_count": 9
  },
  {
   "metadata": {
    "ExecuteTime": {
     "end_time": "2025-01-27T15:31:17.898112Z",
     "start_time": "2025-01-27T15:31:17.895743Z"
    }
   },
   "cell_type": "code",
   "source": "matrix.shape",
   "id": "93c68b4666df131e",
   "outputs": [
    {
     "data": {
      "text/plain": [
       "TensorShape([3, 3])"
      ]
     },
     "execution_count": 10,
     "metadata": {},
     "output_type": "execute_result"
    }
   ],
   "execution_count": 10
  },
  {
   "metadata": {
    "ExecuteTime": {
     "end_time": "2025-01-27T15:31:17.972374Z",
     "start_time": "2025-01-27T15:31:17.969373Z"
    }
   },
   "cell_type": "code",
   "source": "matrix.dtype",
   "id": "11f3d56a60215a53",
   "outputs": [
    {
     "data": {
      "text/plain": [
       "tf.int32"
      ]
     },
     "execution_count": 11,
     "metadata": {},
     "output_type": "execute_result"
    }
   ],
   "execution_count": 11
  },
  {
   "metadata": {
    "ExecuteTime": {
     "end_time": "2025-01-27T15:31:18.049984Z",
     "start_time": "2025-01-27T15:31:18.046578Z"
    }
   },
   "cell_type": "code",
   "source": "matrix[:,1:] #Prints all rows and all columns barring the 0th column.",
   "id": "1681c192d3d9b0d0",
   "outputs": [
    {
     "data": {
      "text/plain": [
       "<tf.Tensor: shape=(3, 2), dtype=int32, numpy=\n",
       "array([[2, 3],\n",
       "       [5, 6],\n",
       "       [8, 9]], dtype=int32)>"
      ]
     },
     "execution_count": 12,
     "metadata": {},
     "output_type": "execute_result"
    }
   ],
   "execution_count": 12
  },
  {
   "metadata": {
    "ExecuteTime": {
     "end_time": "2025-01-27T15:32:36.050731Z",
     "start_time": "2025-01-27T15:32:36.033497Z"
    }
   },
   "cell_type": "code",
   "source": "matrix = matrix + 10",
   "id": "78fdb0575a93895",
   "outputs": [],
   "execution_count": 14
  },
  {
   "metadata": {
    "ExecuteTime": {
     "end_time": "2025-01-27T15:32:50.987677Z",
     "start_time": "2025-01-27T15:32:50.973940Z"
    }
   },
   "cell_type": "code",
   "source": "tf.square(matrix)",
   "id": "3ae77aadedf2061a",
   "outputs": [
    {
     "data": {
      "text/plain": [
       "<tf.Tensor: shape=(3, 3), dtype=int32, numpy=\n",
       "array([[121, 144, 169],\n",
       "       [196, 225, 256],\n",
       "       [289, 324, 361]], dtype=int32)>"
      ]
     },
     "execution_count": 15,
     "metadata": {},
     "output_type": "execute_result"
    }
   ],
   "execution_count": 15
  },
  {
   "metadata": {
    "ExecuteTime": {
     "end_time": "2025-01-27T15:33:03.357588Z",
     "start_time": "2025-01-27T15:33:03.343153Z"
    }
   },
   "cell_type": "code",
   "source": "tf.transpose(matrix)",
   "id": "dfc8a135739eb6af",
   "outputs": [
    {
     "data": {
      "text/plain": [
       "<tf.Tensor: shape=(3, 3), dtype=int32, numpy=\n",
       "array([[11, 14, 17],\n",
       "       [12, 15, 18],\n",
       "       [13, 16, 19]], dtype=int32)>"
      ]
     },
     "execution_count": 16,
     "metadata": {},
     "output_type": "execute_result"
    }
   ],
   "execution_count": 16
  },
  {
   "metadata": {
    "ExecuteTime": {
     "end_time": "2025-01-27T15:37:24.877848Z",
     "start_time": "2025-01-27T15:37:24.689845Z"
    }
   },
   "cell_type": "code",
   "source": [
    "#Attempting type conversion\n",
    "mat1 = tf.constant([[1,2,3],[4,5,6]])\n",
    "mat2 = tf.constant([[1., 2., 3.],[4.,5.,6.]])\n",
    "print(mat1 + mat2)"
   ],
   "id": "328760de4263702b",
   "outputs": [
    {
     "ename": "InvalidArgumentError",
     "evalue": "cannot compute AddV2 as input #1(zero-based) was expected to be a int32 tensor but is a float tensor [Op:AddV2] name: ",
     "output_type": "error",
     "traceback": [
      "\u001B[0;31m---------------------------------------------------------------------------\u001B[0m",
      "\u001B[0;31mInvalidArgumentError\u001B[0m                      Traceback (most recent call last)",
      "Cell \u001B[0;32mIn[17], line 4\u001B[0m\n\u001B[1;32m      2\u001B[0m mat1 \u001B[38;5;241m=\u001B[39m tf\u001B[38;5;241m.\u001B[39mconstant([[\u001B[38;5;241m1\u001B[39m,\u001B[38;5;241m2\u001B[39m,\u001B[38;5;241m3\u001B[39m],[\u001B[38;5;241m4\u001B[39m,\u001B[38;5;241m5\u001B[39m,\u001B[38;5;241m6\u001B[39m]])\n\u001B[1;32m      3\u001B[0m mat2 \u001B[38;5;241m=\u001B[39m tf\u001B[38;5;241m.\u001B[39mconstant([[\u001B[38;5;241m1.\u001B[39m, \u001B[38;5;241m2.\u001B[39m, \u001B[38;5;241m3.\u001B[39m],[\u001B[38;5;241m4.\u001B[39m,\u001B[38;5;241m5.\u001B[39m,\u001B[38;5;241m6.\u001B[39m]])\n\u001B[0;32m----> 4\u001B[0m \u001B[38;5;28mprint\u001B[39m(\u001B[43mmat1\u001B[49m\u001B[43m \u001B[49m\u001B[38;5;241;43m+\u001B[39;49m\u001B[43m \u001B[49m\u001B[43mmat2\u001B[49m)\n",
      "File \u001B[0;32m~/opt/miniconda3/envs/AI/lib/python3.12/site-packages/tensorflow/python/util/traceback_utils.py:153\u001B[0m, in \u001B[0;36mfilter_traceback.<locals>.error_handler\u001B[0;34m(*args, **kwargs)\u001B[0m\n\u001B[1;32m    151\u001B[0m \u001B[38;5;28;01mexcept\u001B[39;00m \u001B[38;5;167;01mException\u001B[39;00m \u001B[38;5;28;01mas\u001B[39;00m e:\n\u001B[1;32m    152\u001B[0m   filtered_tb \u001B[38;5;241m=\u001B[39m _process_traceback_frames(e\u001B[38;5;241m.\u001B[39m__traceback__)\n\u001B[0;32m--> 153\u001B[0m   \u001B[38;5;28;01mraise\u001B[39;00m e\u001B[38;5;241m.\u001B[39mwith_traceback(filtered_tb) \u001B[38;5;28;01mfrom\u001B[39;00m \u001B[38;5;28;01mNone\u001B[39;00m\n\u001B[1;32m    154\u001B[0m \u001B[38;5;28;01mfinally\u001B[39;00m:\n\u001B[1;32m    155\u001B[0m   \u001B[38;5;28;01mdel\u001B[39;00m filtered_tb\n",
      "File \u001B[0;32m~/opt/miniconda3/envs/AI/lib/python3.12/site-packages/tensorflow/python/framework/ops.py:5983\u001B[0m, in \u001B[0;36mraise_from_not_ok_status\u001B[0;34m(e, name)\u001B[0m\n\u001B[1;32m   5981\u001B[0m \u001B[38;5;28;01mdef\u001B[39;00m \u001B[38;5;21mraise_from_not_ok_status\u001B[39m(e, name) \u001B[38;5;241m-\u001B[39m\u001B[38;5;241m>\u001B[39m NoReturn:\n\u001B[1;32m   5982\u001B[0m   e\u001B[38;5;241m.\u001B[39mmessage \u001B[38;5;241m+\u001B[39m\u001B[38;5;241m=\u001B[39m (\u001B[38;5;124m\"\u001B[39m\u001B[38;5;124m name: \u001B[39m\u001B[38;5;124m\"\u001B[39m \u001B[38;5;241m+\u001B[39m \u001B[38;5;28mstr\u001B[39m(name \u001B[38;5;28;01mif\u001B[39;00m name \u001B[38;5;129;01mis\u001B[39;00m \u001B[38;5;129;01mnot\u001B[39;00m \u001B[38;5;28;01mNone\u001B[39;00m \u001B[38;5;28;01melse\u001B[39;00m \u001B[38;5;124m\"\u001B[39m\u001B[38;5;124m\"\u001B[39m))\n\u001B[0;32m-> 5983\u001B[0m   \u001B[38;5;28;01mraise\u001B[39;00m core\u001B[38;5;241m.\u001B[39m_status_to_exception(e) \u001B[38;5;28;01mfrom\u001B[39;00m \u001B[38;5;28;01mNone\u001B[39;00m\n",
      "\u001B[0;31mInvalidArgumentError\u001B[0m: cannot compute AddV2 as input #1(zero-based) was expected to be a int32 tensor but is a float tensor [Op:AddV2] name: "
     ]
    }
   ],
   "execution_count": 17
  },
  {
   "metadata": {
    "ExecuteTime": {
     "end_time": "2025-01-27T15:40:55.156729Z",
     "start_time": "2025-01-27T15:40:55.146722Z"
    }
   },
   "cell_type": "code",
   "source": [
    "mat = tf.Variable([[1,2],[4,5]])\n",
    "mat"
   ],
   "id": "e86333c953d18094",
   "outputs": [
    {
     "data": {
      "text/plain": [
       "<tf.Variable 'Variable:0' shape=(2, 2) dtype=int32, numpy=\n",
       "array([[1, 2],\n",
       "       [4, 5]], dtype=int32)>"
      ]
     },
     "execution_count": 20,
     "metadata": {},
     "output_type": "execute_result"
    }
   ],
   "execution_count": 20
  },
  {
   "metadata": {},
   "cell_type": "markdown",
   "source": "Creating a custom loss function",
   "id": "56375d701e250b54"
  },
  {
   "metadata": {
    "ExecuteTime": {
     "end_time": "2025-01-27T15:51:10.102804Z",
     "start_time": "2025-01-27T15:51:10.084342Z"
    }
   },
   "cell_type": "code",
   "source": [
    "def huber_fn(y_true, y_pred):\n",
    "    error = y_true - y_pred\n",
    "    is_small_error = tf.abs(error) < 1\n",
    "    squared_loss = tf.square(error)/2\n",
    "    linear_loss = tf.abs(error) - 0.5\n",
    "    return tf.where(is_small_error, squared_loss, linear_loss)\n",
    "# Working of the tf.where() function. For each value in the output tensor, if is_small_error is true then squared loss is executed, else linear_loss is computed."
   ],
   "id": "74c43d36fd0ae48d",
   "outputs": [],
   "execution_count": 22
  },
  {
   "metadata": {},
   "cell_type": "markdown",
   "source": "Custom activation function",
   "id": "bca501ae8906db5a"
  },
  {
   "metadata": {
    "ExecuteTime": {
     "end_time": "2025-01-27T15:54:13.720979Z",
     "start_time": "2025-01-27T15:54:13.708473Z"
    }
   },
   "cell_type": "code",
   "source": [
    "def my_softplus(z):\n",
    "    return tf.math.log(tf.exp(z) + 1.0)"
   ],
   "id": "48bcc89547eddc8f",
   "outputs": [],
   "execution_count": 23
  },
  {
   "metadata": {},
   "cell_type": "markdown",
   "source": "Custom initialiser",
   "id": "d031b161b4041d56"
  },
  {
   "metadata": {
    "ExecuteTime": {
     "end_time": "2025-01-27T15:55:47.777310Z",
     "start_time": "2025-01-27T15:55:47.764234Z"
    }
   },
   "cell_type": "code",
   "source": [
    "def my_glorot(shape, dtype = tf.float32):\n",
    "    stddev = tf.sqrt(2./ (shape[0] + shape[1]))\n",
    "    return tf.random.normal(shape, stddev = stddev, dtype = dtype)"
   ],
   "id": "346a5d7a061c79fa",
   "outputs": [],
   "execution_count": 24
  },
  {
   "metadata": {},
   "cell_type": "code",
   "outputs": [],
   "execution_count": null,
   "source": "",
   "id": "ffc5ad26446f13f2"
  }
 ],
 "metadata": {
  "kernelspec": {
   "display_name": "Python 3",
   "language": "python",
   "name": "python3"
  },
  "language_info": {
   "codemirror_mode": {
    "name": "ipython",
    "version": 2
   },
   "file_extension": ".py",
   "mimetype": "text/x-python",
   "name": "python",
   "nbconvert_exporter": "python",
   "pygments_lexer": "ipython2",
   "version": "2.7.6"
  }
 },
 "nbformat": 4,
 "nbformat_minor": 5
}
