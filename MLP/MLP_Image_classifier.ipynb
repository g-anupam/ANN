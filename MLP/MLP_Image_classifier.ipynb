{
 "cells": [
  {
   "metadata": {},
   "cell_type": "markdown",
   "source": " We will be building a simple image classifier using multi layered Perceptrons for this exercise. The dataset used is Fashion MNISt which is a collection of 70,000 grayscale images of 28x28 pixels each, with 10 classes.",
   "id": "c39c4de7cbad1324"
  },
  {
   "metadata": {
    "ExecuteTime": {
     "end_time": "2024-07-08T06:37:27.176589Z",
     "start_time": "2024-07-08T06:37:10.148225Z"
    }
   },
   "cell_type": "code",
   "source": "import tensorflow as tf",
   "id": "cc070d5be23a425",
   "outputs": [],
   "execution_count": 2
  },
  {
   "metadata": {
    "ExecuteTime": {
     "end_time": "2024-07-08T06:37:27.522938Z",
     "start_time": "2024-07-08T06:37:27.177766Z"
    }
   },
   "cell_type": "code",
   "source": [
    "fashion_mnist = tf.keras.datasets.fashion_mnist.load_data()\n",
    "(X_train_full,y_train_full),(X_test,y_test) = fashion_mnist\n",
    "X_train, y_train = X_train_full[:-5000], y_train_full[:-5000]\n",
    "X_valid, y_valid = X_train_full[-5000:], y_train_full[-5000:]\n",
    "# Training set contains 60,000 images and testing contains 10,000, however we have kept the last 5000 from \n",
    "#training for validation."
   ],
   "id": "9cf08c6596db4304",
   "outputs": [],
   "execution_count": 3
  },
  {
   "metadata": {
    "ExecuteTime": {
     "end_time": "2024-07-08T06:37:27.527009Z",
     "start_time": "2024-07-08T06:37:27.523746Z"
    }
   },
   "cell_type": "code",
   "source": "X_train.shape",
   "id": "5c962b1773227cc8",
   "outputs": [
    {
     "data": {
      "text/plain": [
       "(55000, 28, 28)"
      ]
     },
     "execution_count": 4,
     "metadata": {},
     "output_type": "execute_result"
    }
   ],
   "execution_count": 4
  },
  {
   "metadata": {
    "ExecuteTime": {
     "end_time": "2024-07-08T06:37:27.531855Z",
     "start_time": "2024-07-08T06:37:27.528923Z"
    }
   },
   "cell_type": "code",
   "source": "X_train.dtype",
   "id": "96ae35ffeff0e415",
   "outputs": [
    {
     "data": {
      "text/plain": [
       "dtype('uint8')"
      ]
     },
     "execution_count": 5,
     "metadata": {},
     "output_type": "execute_result"
    }
   ],
   "execution_count": 5
  },
  {
   "metadata": {
    "ExecuteTime": {
     "end_time": "2024-07-08T06:37:27.536869Z",
     "start_time": "2024-07-08T06:37:27.532575Z"
    }
   },
   "cell_type": "code",
   "source": "X_train",
   "id": "225b992aa8699137",
   "outputs": [
    {
     "data": {
      "text/plain": [
       "array([[[0, 0, 0, ..., 0, 0, 0],\n",
       "        [0, 0, 0, ..., 0, 0, 0],\n",
       "        [0, 0, 0, ..., 0, 0, 0],\n",
       "        ...,\n",
       "        [0, 0, 0, ..., 0, 0, 0],\n",
       "        [0, 0, 0, ..., 0, 0, 0],\n",
       "        [0, 0, 0, ..., 0, 0, 0]],\n",
       "\n",
       "       [[0, 0, 0, ..., 0, 0, 0],\n",
       "        [0, 0, 0, ..., 0, 0, 0],\n",
       "        [0, 0, 0, ..., 0, 0, 0],\n",
       "        ...,\n",
       "        [0, 0, 0, ..., 0, 0, 0],\n",
       "        [0, 0, 0, ..., 0, 0, 0],\n",
       "        [0, 0, 0, ..., 0, 0, 0]],\n",
       "\n",
       "       [[0, 0, 0, ..., 0, 0, 0],\n",
       "        [0, 0, 0, ..., 0, 0, 0],\n",
       "        [0, 0, 0, ..., 0, 0, 0],\n",
       "        ...,\n",
       "        [0, 0, 0, ..., 0, 0, 0],\n",
       "        [0, 0, 0, ..., 0, 0, 0],\n",
       "        [0, 0, 0, ..., 0, 0, 0]],\n",
       "\n",
       "       ...,\n",
       "\n",
       "       [[0, 0, 0, ..., 0, 0, 0],\n",
       "        [0, 0, 0, ..., 0, 0, 0],\n",
       "        [0, 0, 0, ..., 0, 0, 0],\n",
       "        ...,\n",
       "        [0, 0, 0, ..., 0, 0, 0],\n",
       "        [0, 0, 0, ..., 0, 0, 0],\n",
       "        [0, 0, 0, ..., 0, 0, 0]],\n",
       "\n",
       "       [[0, 0, 0, ..., 0, 0, 0],\n",
       "        [1, 0, 0, ..., 0, 0, 0],\n",
       "        [0, 0, 0, ..., 0, 0, 0],\n",
       "        ...,\n",
       "        [0, 0, 0, ..., 0, 0, 0],\n",
       "        [0, 0, 0, ..., 0, 0, 0],\n",
       "        [0, 0, 0, ..., 0, 0, 0]],\n",
       "\n",
       "       [[0, 0, 0, ..., 0, 0, 0],\n",
       "        [0, 0, 0, ..., 0, 0, 0],\n",
       "        [0, 0, 0, ..., 0, 0, 0],\n",
       "        ...,\n",
       "        [0, 0, 0, ..., 0, 0, 0],\n",
       "        [0, 0, 0, ..., 0, 0, 0],\n",
       "        [0, 0, 0, ..., 0, 0, 0]]], dtype=uint8)"
      ]
     },
     "execution_count": 6,
     "metadata": {},
     "output_type": "execute_result"
    }
   ],
   "execution_count": 6
  },
  {
   "metadata": {},
   "cell_type": "markdown",
   "source": " The pixel intensities are represented in a range of 0 to 255. Hence, we divide them by 255 to scale them all to values between 0 and 1.",
   "id": "7963233623bd02e3"
  },
  {
   "metadata": {
    "ExecuteTime": {
     "end_time": "2024-07-08T06:42:14.787734Z",
     "start_time": "2024-07-08T06:42:14.635287Z"
    }
   },
   "cell_type": "code",
   "source": "X_train, X_valid , X_test = X_train/255. , X_valid/255. , X_test/255.  ",
   "id": "392622f7ccb04c22",
   "outputs": [],
   "execution_count": 9
  },
  {
   "metadata": {
    "ExecuteTime": {
     "end_time": "2024-07-08T06:43:23.704733Z",
     "start_time": "2024-07-08T06:43:23.702008Z"
    }
   },
   "cell_type": "code",
   "source": "class_names = [\"T shirt\",\"Trouser\", \"Pullover\", \"Dress\",\"Coat\",\"Sandal\",\"Shirt\",\"Sneaker\",\"Bag\",\"Ankle boot\"]",
   "id": "c90893a33b162d14",
   "outputs": [],
   "execution_count": 11
  },
  {
   "metadata": {
    "ExecuteTime": {
     "end_time": "2024-07-08T06:43:36.998694Z",
     "start_time": "2024-07-08T06:43:36.994439Z"
    }
   },
   "cell_type": "code",
   "source": "class_names[y_train[0]] # where y_train[0] return a number between 0 and 9.",
   "id": "3d9264a5c94868d8",
   "outputs": [
    {
     "data": {
      "text/plain": [
       "'Ankle boot'"
      ]
     },
     "execution_count": 12,
     "metadata": {},
     "output_type": "execute_result"
    }
   ],
   "execution_count": 12
  },
  {
   "metadata": {
    "ExecuteTime": {
     "end_time": "2024-07-08T06:45:16.515160Z",
     "start_time": "2024-07-08T06:45:16.506022Z"
    }
   },
   "cell_type": "code",
   "source": "tf.random.set_seed(42)",
   "id": "45ffed1631869462",
   "outputs": [],
   "execution_count": 13
  },
  {
   "metadata": {},
   "cell_type": "markdown",
   "source": "Every set of random numbers generated is based on an initial value called seed. Random numbers are generated based on an algorithm, where for the same seed value, you will always get the same sequence of numbers. Setting random_seed(42) ensures that the same set of numbers are generated on subsequent calls of the function. By doing tensorflow.random.set_seed(42), we make sure that the random weights and biases of the NN that we start with remains the same for all calls of the function.",
   "id": "8ad223b6d711a413"
  },
  {
   "metadata": {
    "ExecuteTime": {
     "end_time": "2024-07-08T12:43:24.389811Z",
     "start_time": "2024-07-08T12:43:24.340865Z"
    }
   },
   "cell_type": "code",
   "source": [
    "model = tf.keras.Sequential()\n",
    "model.add(tf.keras.layers.Input(shape = [28,28]))\n",
    "model.add(tf.keras.layers.Flatten())\n",
    "model.add(tf.keras.layers.Dense(300,activation = \"relu\"))\n",
    "model.add(tf.keras.layers.Dense(100,activation = \"relu\"))\n",
    "model.add(tf.keras.layers.Dense(10,activation = \"softmax\"))"
   ],
   "id": "aadc6f3fe19794ba",
   "outputs": [],
   "execution_count": 15
  },
  {
   "metadata": {
    "ExecuteTime": {
     "end_time": "2024-07-08T12:45:29.644503Z",
     "start_time": "2024-07-08T12:45:29.625492Z"
    }
   },
   "cell_type": "code",
   "source": "model.summary()",
   "id": "8f6e53b309c07f54",
   "outputs": [
    {
     "name": "stdout",
     "output_type": "stream",
     "text": [
      "Model: \"sequential_1\"\n",
      "_________________________________________________________________\n",
      " Layer (type)                Output Shape              Param #   \n",
      "=================================================================\n",
      " flatten_1 (Flatten)         (None, 784)               0         \n",
      "                                                                 \n",
      " dense (Dense)               (None, 300)               235500    \n",
      "                                                                 \n",
      " dense_1 (Dense)             (None, 100)               30100     \n",
      "                                                                 \n",
      " dense_2 (Dense)             (None, 10)                1010      \n",
      "                                                                 \n",
      "=================================================================\n",
      "Total params: 266,610\n",
      "Trainable params: 266,610\n",
      "Non-trainable params: 0\n",
      "_________________________________________________________________\n"
     ]
    }
   ],
   "execution_count": 16
  },
  {
   "metadata": {
    "ExecuteTime": {
     "end_time": "2024-07-08T12:46:58.868268Z",
     "start_time": "2024-07-08T12:46:58.856366Z"
    }
   },
   "cell_type": "code",
   "source": "model.layers",
   "id": "a420acf26923602a",
   "outputs": [
    {
     "data": {
      "text/plain": [
       "[<keras.layers.reshaping.flatten.Flatten at 0x177ff40d0>,\n",
       " <keras.layers.core.dense.Dense at 0x17e3e2c10>,\n",
       " <keras.layers.core.dense.Dense at 0x17e3e1990>,\n",
       " <keras.layers.core.dense.Dense at 0x17e3e19d0>]"
      ]
     },
     "execution_count": 17,
     "metadata": {},
     "output_type": "execute_result"
    }
   ],
   "execution_count": 17
  },
  {
   "metadata": {
    "ExecuteTime": {
     "end_time": "2024-07-08T12:48:33.057809Z",
     "start_time": "2024-07-08T12:48:33.012028Z"
    }
   },
   "cell_type": "code",
   "source": [
    "hidden1 = model.layers[1]\n",
    "weights, biases = hidden1.get_weights()\n",
    "weights"
   ],
   "id": "3f1e0802b0bd66d1",
   "outputs": [
    {
     "data": {
      "text/plain": [
       "array([[-0.02823967, -0.05251091,  0.00268169, ...,  0.04971076,\n",
       "        -0.03119501,  0.04921806],\n",
       "       [-0.03942334,  0.00151687, -0.03145033, ...,  0.03966175,\n",
       "         0.0261376 ,  0.0242289 ],\n",
       "       [ 0.04294941,  0.05061601, -0.02235479, ...,  0.05828425,\n",
       "         0.05466367,  0.05763708],\n",
       "       ...,\n",
       "       [ 0.02335439,  0.07257515,  0.01948071, ...,  0.07402043,\n",
       "         0.07019635,  0.02423441],\n",
       "       [ 0.03445707,  0.01015666, -0.04744163, ..., -0.04319565,\n",
       "        -0.04775066,  0.04063372],\n",
       "       [-0.01180972,  0.03952505,  0.05082303, ...,  0.02231713,\n",
       "         0.05075026, -0.07056437]], dtype=float32)"
      ]
     },
     "execution_count": 18,
     "metadata": {},
     "output_type": "execute_result"
    }
   ],
   "execution_count": 18
  },
  {
   "metadata": {
    "ExecuteTime": {
     "end_time": "2024-07-08T12:49:31.796385Z",
     "start_time": "2024-07-08T12:49:31.788881Z"
    }
   },
   "cell_type": "code",
   "source": "biases",
   "id": "2bdfac946d5e67af",
   "outputs": [
    {
     "data": {
      "text/plain": [
       "array([0., 0., 0., 0., 0., 0., 0., 0., 0., 0., 0., 0., 0., 0., 0., 0., 0.,\n",
       "       0., 0., 0., 0., 0., 0., 0., 0., 0., 0., 0., 0., 0., 0., 0., 0., 0.,\n",
       "       0., 0., 0., 0., 0., 0., 0., 0., 0., 0., 0., 0., 0., 0., 0., 0., 0.,\n",
       "       0., 0., 0., 0., 0., 0., 0., 0., 0., 0., 0., 0., 0., 0., 0., 0., 0.,\n",
       "       0., 0., 0., 0., 0., 0., 0., 0., 0., 0., 0., 0., 0., 0., 0., 0., 0.,\n",
       "       0., 0., 0., 0., 0., 0., 0., 0., 0., 0., 0., 0., 0., 0., 0., 0., 0.,\n",
       "       0., 0., 0., 0., 0., 0., 0., 0., 0., 0., 0., 0., 0., 0., 0., 0., 0.,\n",
       "       0., 0., 0., 0., 0., 0., 0., 0., 0., 0., 0., 0., 0., 0., 0., 0., 0.,\n",
       "       0., 0., 0., 0., 0., 0., 0., 0., 0., 0., 0., 0., 0., 0., 0., 0., 0.,\n",
       "       0., 0., 0., 0., 0., 0., 0., 0., 0., 0., 0., 0., 0., 0., 0., 0., 0.,\n",
       "       0., 0., 0., 0., 0., 0., 0., 0., 0., 0., 0., 0., 0., 0., 0., 0., 0.,\n",
       "       0., 0., 0., 0., 0., 0., 0., 0., 0., 0., 0., 0., 0., 0., 0., 0., 0.,\n",
       "       0., 0., 0., 0., 0., 0., 0., 0., 0., 0., 0., 0., 0., 0., 0., 0., 0.,\n",
       "       0., 0., 0., 0., 0., 0., 0., 0., 0., 0., 0., 0., 0., 0., 0., 0., 0.,\n",
       "       0., 0., 0., 0., 0., 0., 0., 0., 0., 0., 0., 0., 0., 0., 0., 0., 0.,\n",
       "       0., 0., 0., 0., 0., 0., 0., 0., 0., 0., 0., 0., 0., 0., 0., 0., 0.,\n",
       "       0., 0., 0., 0., 0., 0., 0., 0., 0., 0., 0., 0., 0., 0., 0., 0., 0.,\n",
       "       0., 0., 0., 0., 0., 0., 0., 0., 0., 0., 0.], dtype=float32)"
      ]
     },
     "execution_count": 20,
     "metadata": {},
     "output_type": "execute_result"
    }
   ],
   "execution_count": 20
  },
  {
   "metadata": {
    "ExecuteTime": {
     "end_time": "2024-07-08T12:49:37.721119Z",
     "start_time": "2024-07-08T12:49:37.712233Z"
    }
   },
   "cell_type": "code",
   "source": "biases.shape",
   "id": "e907abe41601ea3e",
   "outputs": [
    {
     "data": {
      "text/plain": [
       "(300,)"
      ]
     },
     "execution_count": 21,
     "metadata": {},
     "output_type": "execute_result"
    }
   ],
   "execution_count": 21
  },
  {
   "metadata": {
    "ExecuteTime": {
     "end_time": "2024-07-08T12:56:02.103698Z",
     "start_time": "2024-07-08T12:56:02.074841Z"
    }
   },
   "cell_type": "code",
   "source": "model.compile(loss=\"sparse_categorical_crossentropy\",optimizer = \"sgd\",metrics = [\"accuracy\"])",
   "id": "5c10b5b9fce1b9cf",
   "outputs": [],
   "execution_count": 22
  },
  {
   "metadata": {
    "ExecuteTime": {
     "end_time": "2024-07-08T12:58:14.455862Z",
     "start_time": "2024-07-08T12:56:41.269821Z"
    }
   },
   "cell_type": "code",
   "source": "history = model.fit(X_train,y_train,epochs = 30, validation_data = (X_valid,y_valid))",
   "id": "f94c2316c7623efb",
   "outputs": [
    {
     "name": "stdout",
     "output_type": "stream",
     "text": [
      "Epoch 1/30\n"
     ]
    },
    {
     "name": "stderr",
     "output_type": "stream",
     "text": [
      "2024-07-08 18:26:42.077376: W tensorflow/tsl/platform/profile_utils/cpu_utils.cc:128] Failed to get CPU frequency: 0 Hz\n"
     ]
    },
    {
     "name": "stdout",
     "output_type": "stream",
     "text": [
      "1719/1719 [==============================] - 3s 2ms/step - loss: 0.7199 - accuracy: 0.7614 - val_loss: 0.5069 - val_accuracy: 0.8280\n",
      "Epoch 2/30\n",
      "1719/1719 [==============================] - 2s 1ms/step - loss: 0.4894 - accuracy: 0.8310 - val_loss: 0.4604 - val_accuracy: 0.8352\n",
      "Epoch 3/30\n",
      "1719/1719 [==============================] - 3s 2ms/step - loss: 0.4417 - accuracy: 0.8447 - val_loss: 0.4248 - val_accuracy: 0.8510\n",
      "Epoch 4/30\n",
      "1719/1719 [==============================] - 2s 1ms/step - loss: 0.4158 - accuracy: 0.8540 - val_loss: 0.3949 - val_accuracy: 0.8596\n",
      "Epoch 5/30\n",
      "1719/1719 [==============================] - 2s 1ms/step - loss: 0.3941 - accuracy: 0.8609 - val_loss: 0.3890 - val_accuracy: 0.8574\n",
      "Epoch 6/30\n",
      "1719/1719 [==============================] - 3s 2ms/step - loss: 0.3779 - accuracy: 0.8663 - val_loss: 0.3861 - val_accuracy: 0.8650\n",
      "Epoch 7/30\n",
      "1719/1719 [==============================] - 3s 2ms/step - loss: 0.3649 - accuracy: 0.8702 - val_loss: 0.3646 - val_accuracy: 0.8700\n",
      "Epoch 8/30\n",
      "1719/1719 [==============================] - 3s 2ms/step - loss: 0.3532 - accuracy: 0.8748 - val_loss: 0.3653 - val_accuracy: 0.8682\n",
      "Epoch 9/30\n",
      "1719/1719 [==============================] - 4s 2ms/step - loss: 0.3425 - accuracy: 0.8779 - val_loss: 0.3479 - val_accuracy: 0.8744\n",
      "Epoch 10/30\n",
      "1719/1719 [==============================] - 4s 2ms/step - loss: 0.3323 - accuracy: 0.8815 - val_loss: 0.3520 - val_accuracy: 0.8742\n",
      "Epoch 11/30\n",
      "1719/1719 [==============================] - 3s 2ms/step - loss: 0.3234 - accuracy: 0.8849 - val_loss: 0.3597 - val_accuracy: 0.8704\n",
      "Epoch 12/30\n",
      "1719/1719 [==============================] - 3s 2ms/step - loss: 0.3155 - accuracy: 0.8862 - val_loss: 0.3447 - val_accuracy: 0.8750\n",
      "Epoch 13/30\n",
      "1719/1719 [==============================] - 3s 2ms/step - loss: 0.3079 - accuracy: 0.8906 - val_loss: 0.3273 - val_accuracy: 0.8816\n",
      "Epoch 14/30\n",
      "1719/1719 [==============================] - 3s 2ms/step - loss: 0.3005 - accuracy: 0.8925 - val_loss: 0.3329 - val_accuracy: 0.8816\n",
      "Epoch 15/30\n",
      "1719/1719 [==============================] - 3s 2ms/step - loss: 0.2948 - accuracy: 0.8947 - val_loss: 0.3369 - val_accuracy: 0.8780\n",
      "Epoch 16/30\n",
      "1719/1719 [==============================] - 3s 2ms/step - loss: 0.2874 - accuracy: 0.8973 - val_loss: 0.3296 - val_accuracy: 0.8812\n",
      "Epoch 17/30\n",
      "1719/1719 [==============================] - 4s 2ms/step - loss: 0.2826 - accuracy: 0.8970 - val_loss: 0.3324 - val_accuracy: 0.8798\n",
      "Epoch 18/30\n",
      "1719/1719 [==============================] - 3s 2ms/step - loss: 0.2763 - accuracy: 0.9002 - val_loss: 0.3244 - val_accuracy: 0.8800\n",
      "Epoch 19/30\n",
      "1719/1719 [==============================] - 3s 2ms/step - loss: 0.2713 - accuracy: 0.9034 - val_loss: 0.3561 - val_accuracy: 0.8632\n",
      "Epoch 20/30\n",
      "1719/1719 [==============================] - 3s 2ms/step - loss: 0.2663 - accuracy: 0.9046 - val_loss: 0.3221 - val_accuracy: 0.8790\n",
      "Epoch 21/30\n",
      "1719/1719 [==============================] - 3s 2ms/step - loss: 0.2609 - accuracy: 0.9063 - val_loss: 0.3172 - val_accuracy: 0.8808\n",
      "Epoch 22/30\n",
      "1719/1719 [==============================] - 3s 2ms/step - loss: 0.2560 - accuracy: 0.9073 - val_loss: 0.3120 - val_accuracy: 0.8840\n",
      "Epoch 23/30\n",
      "1719/1719 [==============================] - 3s 2ms/step - loss: 0.2517 - accuracy: 0.9099 - val_loss: 0.3406 - val_accuracy: 0.8754\n",
      "Epoch 24/30\n",
      "1719/1719 [==============================] - 3s 2ms/step - loss: 0.2470 - accuracy: 0.9112 - val_loss: 0.3207 - val_accuracy: 0.8836\n",
      "Epoch 25/30\n",
      "1719/1719 [==============================] - 4s 2ms/step - loss: 0.2423 - accuracy: 0.9123 - val_loss: 0.3171 - val_accuracy: 0.8818\n",
      "Epoch 26/30\n",
      "1719/1719 [==============================] - 3s 2ms/step - loss: 0.2384 - accuracy: 0.9148 - val_loss: 0.3116 - val_accuracy: 0.8862\n",
      "Epoch 27/30\n",
      "1719/1719 [==============================] - 3s 2ms/step - loss: 0.2335 - accuracy: 0.9154 - val_loss: 0.3236 - val_accuracy: 0.8848\n",
      "Epoch 28/30\n",
      "1719/1719 [==============================] - 3s 2ms/step - loss: 0.2303 - accuracy: 0.9171 - val_loss: 0.3091 - val_accuracy: 0.8880\n",
      "Epoch 29/30\n",
      "1719/1719 [==============================] - 4s 2ms/step - loss: 0.2266 - accuracy: 0.9184 - val_loss: 0.3265 - val_accuracy: 0.8856\n",
      "Epoch 30/30\n",
      "1719/1719 [==============================] - 3s 2ms/step - loss: 0.2232 - accuracy: 0.9196 - val_loss: 0.3075 - val_accuracy: 0.8890\n"
     ]
    }
   ],
   "execution_count": 23
  },
  {
   "metadata": {
    "ExecuteTime": {
     "end_time": "2024-07-08T13:02:50.771718Z",
     "start_time": "2024-07-08T13:02:50.144975Z"
    }
   },
   "cell_type": "code",
   "source": [
    "import matplotlib.pyplot as plt\n",
    "import pandas as pd"
   ],
   "id": "458ab049a0282d09",
   "outputs": [],
   "execution_count": 24
  },
  {
   "metadata": {
    "ExecuteTime": {
     "end_time": "2024-07-08T13:04:47.208798Z",
     "start_time": "2024-07-08T13:04:46.959078Z"
    }
   },
   "cell_type": "code",
   "source": [
    "pd.DataFrame(history.history).plot(figsize=(8,5),xlim = [0,29],ylim = [0,1],grid=True,xlabel = \"Epoch\", style = [\"r--\",\"r--.\",\"b-*\"])\n",
    "plt.show()"
   ],
   "id": "8376295780a4a05a",
   "outputs": [
    {
     "data": {
      "text/plain": [
       "<Figure size 800x500 with 1 Axes>"
      ],
      "image/png": "[encoded data removed]"
     },
     "metadata": {},
     "output_type": "display_data"
    }
   ],
   "execution_count": 25
  },
  {
   "metadata": {
    "ExecuteTime": {
     "end_time": "2024-07-08T13:12:45.780759Z",
     "start_time": "2024-07-08T13:12:45.095258Z"
    }
   },
   "cell_type": "code",
   "source": "model.evaluate(X_test,y_test)",
   "id": "3af97a30057248d7",
   "outputs": [
    {
     "name": "stdout",
     "output_type": "stream",
     "text": [
      "313/313 [==============================] - 0s 859us/step - loss: 0.3250 - accuracy: 0.8835\n"
     ]
    },
    {
     "data": {
      "text/plain": [
       "[0.32496339082717896, 0.8834999799728394]"
      ]
     },
     "execution_count": 26,
     "metadata": {},
     "output_type": "execute_result"
    }
   ],
   "execution_count": 26
  },
  {
   "metadata": {
    "ExecuteTime": {
     "end_time": "2024-07-08T13:13:19.531940Z",
     "start_time": "2024-07-08T13:13:19.386889Z"
    }
   },
   "cell_type": "code",
   "source": [
    "X_new = X_test[:3]\n",
    "y_proba = model.predict(X_new)\n",
    "y_proba.round(2)"
   ],
   "id": "11081adc84f2b66a",
   "outputs": [
    {
     "name": "stdout",
     "output_type": "stream",
     "text": [
      "1/1 [==============================] - 0s 88ms/step\n"
     ]
    },
    {
     "data": {
      "text/plain": [
       "array([[0.  , 0.  , 0.  , 0.  , 0.  , 0.  , 0.  , 0.01, 0.  , 0.99],\n",
       "       [0.  , 0.  , 1.  , 0.  , 0.  , 0.  , 0.  , 0.  , 0.  , 0.  ],\n",
       "       [0.  , 1.  , 0.  , 0.  , 0.  , 0.  , 0.  , 0.  , 0.  , 0.  ]],\n",
       "      dtype=float32)"
      ]
     },
     "execution_count": 27,
     "metadata": {},
     "output_type": "execute_result"
    }
   ],
   "execution_count": 27
  },
  {
   "metadata": {
    "ExecuteTime": {
     "end_time": "2024-07-08T13:15:05.726164Z",
     "start_time": "2024-07-08T13:15:05.720553Z"
    }
   },
   "cell_type": "code",
   "source": "import numpy as np",
   "id": "a88d6f1c60c2eabd",
   "outputs": [],
   "execution_count": 28
  },
  {
   "metadata": {
    "ExecuteTime": {
     "end_time": "2024-07-08T13:15:27.590722Z",
     "start_time": "2024-07-08T13:15:27.583600Z"
    }
   },
   "cell_type": "code",
   "source": [
    "y_pred = y_proba.argmax(axis = -1)\n",
    "y_pred"
   ],
   "id": "8805b802a093e7dd",
   "outputs": [
    {
     "data": {
      "text/plain": [
       "array([9, 2, 1])"
      ]
     },
     "execution_count": 29,
     "metadata": {},
     "output_type": "execute_result"
    }
   ],
   "execution_count": 29
  },
  {
   "metadata": {
    "ExecuteTime": {
     "end_time": "2024-07-08T13:15:38.574289Z",
     "start_time": "2024-07-08T13:15:38.567217Z"
    }
   },
   "cell_type": "code",
   "source": "np.array(class_names)[y_pred]",
   "id": "266832b18b656e6c",
   "outputs": [
    {
     "data": {
      "text/plain": [
       "array(['Ankle boot', 'Pullover', 'Trouser'], dtype='<U10')"
      ]
     },
     "execution_count": 30,
     "metadata": {},
     "output_type": "execute_result"
    }
   ],
   "execution_count": 30
  },
  {
   "metadata": {},
   "cell_type": "code",
   "outputs": [],
   "execution_count": null,
   "source": "",
   "id": "dfa4f3208c445e79"
  }
 ],
 "metadata": {
  "kernelspec": {
   "display_name": "Python 3",
   "language": "python",
   "name": "python3"
  },
  "language_info": {
   "codemirror_mode": {
    "name": "ipython",
    "version": 2
   },
   "file_extension": ".py",
   "mimetype": "text/x-python",
   "name": "python",
   "nbconvert_exporter": "python",
   "pygments_lexer": "ipython2",
   "version": "2.7.6"
  }
 },
 "nbformat": 4,
 "nbformat_minor": 5
}
