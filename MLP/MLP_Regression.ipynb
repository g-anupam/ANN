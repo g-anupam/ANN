{
 "cells": [
  {
   "cell_type": "code",
   "id": "initial_id",
   "metadata": {
    "collapsed": true,
    "ExecuteTime": {
     "end_time": "2024-07-08T16:57:02.916896Z",
     "start_time": "2024-07-08T16:56:58.615228Z"
    }
   },
   "source": [
    "import numpy as np\n",
    "import pandas as pd\n",
    "import tensorflow as tf"
   ],
   "outputs": [],
   "execution_count": 2
  },
  {
   "metadata": {
    "ExecuteTime": {
     "end_time": "2024-07-08T16:57:04.918631Z",
     "start_time": "2024-07-08T16:57:02.918143Z"
    }
   },
   "cell_type": "code",
   "source": [
    "from sklearn.datasets import fetch_california_housing\n",
    "housing = fetch_california_housing()"
   ],
   "id": "d7ad179e7fc498f3",
   "outputs": [],
   "execution_count": 3
  },
  {
   "metadata": {
    "ExecuteTime": {
     "end_time": "2024-07-08T16:57:04.921283Z",
     "start_time": "2024-07-08T16:57:04.919446Z"
    }
   },
   "cell_type": "code",
   "source": [
    "X = housing.data\n",
    "y = housing.target"
   ],
   "id": "38262e48bf038a14",
   "outputs": [],
   "execution_count": 4
  },
  {
   "metadata": {
    "ExecuteTime": {
     "end_time": "2024-07-08T16:57:05.127206Z",
     "start_time": "2024-07-08T16:57:04.922911Z"
    }
   },
   "cell_type": "code",
   "source": [
    "from sklearn.model_selection import train_test_split\n",
    "\n",
    "X_train,X_test,y_train,y_test = train_test_split(X,y,test_size = 0.2,random_state=42)"
   ],
   "id": "fb7e350994c3ae0e",
   "outputs": [],
   "execution_count": 5
  },
  {
   "metadata": {
    "ExecuteTime": {
     "end_time": "2024-07-08T16:57:05.215974Z",
     "start_time": "2024-07-08T16:57:05.127980Z"
    }
   },
   "cell_type": "code",
   "source": [
    "tf.random.set_seed(42)\n",
    "norm_layer = tf.keras.layers.Normalization(input_shape=X_train.shape[1:])\n",
    "model = tf.keras.Sequential([\n",
    "    norm_layer,\n",
    "    tf.keras.layers.Dense(50,activation='relu'),\n",
    "    tf.keras.layers.Dense(50,activation='relu'),\n",
    "    tf.keras.layers.Dense(50,activation='relu'),\n",
    "    tf.keras.layers.Dense(1)\n",
    "])"
   ],
   "id": "5a13c98bf605f8b3",
   "outputs": [],
   "execution_count": 6
  },
  {
   "metadata": {
    "ExecuteTime": {
     "end_time": "2024-07-08T16:57:11.945368Z",
     "start_time": "2024-07-08T16:57:05.217146Z"
    }
   },
   "cell_type": "code",
   "source": [
    "optimizer = tf.keras.optimizers.Adam(learning_rate = 1e-3)\n",
    "model.compile(loss=\"mse\",optimizer=optimizer,metrics=[\"RootMeanSquaredError\"])\n",
    "norm_layer.adapt(X_train)\n",
    "history = model.fit(X_train,y_train,epochs=20)"
   ],
   "id": "eeb7b4c1e246d844",
   "outputs": [
    {
     "name": "stderr",
     "output_type": "stream",
     "text": [
      "WARNING:absl:At this time, the v2.11+ optimizer `tf.keras.optimizers.Adam` runs slowly on M1/M2 Macs, please use the legacy Keras optimizer instead, located at `tf.keras.optimizers.legacy.Adam`.\n",
      "WARNING:absl:There is a known slowdown when using v2.11+ Keras optimizers on M1/M2 Macs. Falling back to the legacy Keras optimizer, i.e., `tf.keras.optimizers.legacy.Adam`.\n",
      "2024-07-08 22:27:05.350257: W tensorflow/tsl/platform/profile_utils/cpu_utils.cc:128] Failed to get CPU frequency: 0 Hz\n"
     ]
    },
    {
     "name": "stdout",
     "output_type": "stream",
     "text": [
      "Epoch 1/20\n",
      "516/516 [==============================] - 0s 567us/step - loss: 0.7930 - root_mean_squared_error: 0.8905\n",
      "Epoch 2/20\n",
      "516/516 [==============================] - 0s 582us/step - loss: 0.3958 - root_mean_squared_error: 0.6291\n",
      "Epoch 3/20\n",
      "516/516 [==============================] - 0s 558us/step - loss: 0.3691 - root_mean_squared_error: 0.6075\n",
      "Epoch 4/20\n",
      "516/516 [==============================] - 0s 567us/step - loss: 0.3419 - root_mean_squared_error: 0.5847\n",
      "Epoch 5/20\n",
      "516/516 [==============================] - 0s 569us/step - loss: 0.3284 - root_mean_squared_error: 0.5731\n",
      "Epoch 6/20\n",
      "516/516 [==============================] - 0s 601us/step - loss: 0.3238 - root_mean_squared_error: 0.5690\n",
      "Epoch 7/20\n",
      "516/516 [==============================] - 0s 608us/step - loss: 0.3093 - root_mean_squared_error: 0.5561\n",
      "Epoch 8/20\n",
      "516/516 [==============================] - 0s 605us/step - loss: 0.3046 - root_mean_squared_error: 0.5519\n",
      "Epoch 9/20\n",
      "516/516 [==============================] - 0s 611us/step - loss: 0.2934 - root_mean_squared_error: 0.5417\n",
      "Epoch 10/20\n",
      "516/516 [==============================] - 0s 594us/step - loss: 0.2921 - root_mean_squared_error: 0.5405\n",
      "Epoch 11/20\n",
      "516/516 [==============================] - 0s 610us/step - loss: 0.2868 - root_mean_squared_error: 0.5355\n",
      "Epoch 12/20\n",
      "516/516 [==============================] - 0s 590us/step - loss: 0.2881 - root_mean_squared_error: 0.5368\n",
      "Epoch 13/20\n",
      "516/516 [==============================] - 0s 605us/step - loss: 0.2808 - root_mean_squared_error: 0.5299\n",
      "Epoch 14/20\n",
      "516/516 [==============================] - 0s 605us/step - loss: 0.2795 - root_mean_squared_error: 0.5287\n",
      "Epoch 15/20\n",
      "516/516 [==============================] - 0s 563us/step - loss: 0.2738 - root_mean_squared_error: 0.5233\n",
      "Epoch 16/20\n",
      "516/516 [==============================] - 0s 590us/step - loss: 0.2708 - root_mean_squared_error: 0.5204\n",
      "Epoch 17/20\n",
      "516/516 [==============================] - 0s 596us/step - loss: 0.2694 - root_mean_squared_error: 0.5190\n",
      "Epoch 18/20\n",
      "516/516 [==============================] - 0s 572us/step - loss: 0.2673 - root_mean_squared_error: 0.5170\n",
      "Epoch 19/20\n",
      "516/516 [==============================] - 0s 606us/step - loss: 0.2638 - root_mean_squared_error: 0.5136\n",
      "Epoch 20/20\n",
      "516/516 [==============================] - 0s 641us/step - loss: 0.2632 - root_mean_squared_error: 0.5130\n"
     ]
    }
   ],
   "execution_count": 7
  },
  {
   "metadata": {
    "ExecuteTime": {
     "end_time": "2024-07-08T16:57:12.226925Z",
     "start_time": "2024-07-08T16:57:11.946632Z"
    }
   },
   "cell_type": "code",
   "source": [
    "mse_test, rmse_test = model.evaluate(X_test,y_test)\n",
    "X_new = X_test[:3]\n",
    "y_pred = model.predict(X_new)"
   ],
   "id": "7b6acac44a6216bd",
   "outputs": [
    {
     "name": "stdout",
     "output_type": "stream",
     "text": [
      "129/129 [==============================] - 0s 556us/step - loss: 0.2815 - root_mean_squared_error: 0.5306\n",
      "1/1 [==============================] - 0s 57ms/step\n"
     ]
    }
   ],
   "execution_count": 8
  },
  {
   "metadata": {
    "ExecuteTime": {
     "end_time": "2024-07-08T16:57:12.229594Z",
     "start_time": "2024-07-08T16:57:12.227825Z"
    }
   },
   "cell_type": "code",
   "source": "",
   "id": "772ee3bfaee405ad",
   "outputs": [],
   "execution_count": 8
  }
 ],
 "metadata": {
  "kernelspec": {
   "display_name": "Python 3",
   "language": "python",
   "name": "python3"
  },
  "language_info": {
   "codemirror_mode": {
    "name": "ipython",
    "version": 2
   },
   "file_extension": ".py",
   "mimetype": "text/x-python",
   "name": "python",
   "nbconvert_exporter": "python",
   "pygments_lexer": "ipython2",
   "version": "2.7.6"
  }
 },
 "nbformat": 4,
 "nbformat_minor": 5
}
